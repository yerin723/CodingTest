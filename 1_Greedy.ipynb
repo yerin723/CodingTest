{
 "cells": [
  {
   "cell_type": "markdown",
   "metadata": {},
   "source": [
    "## 예제 3-1 거스름돈"
   ]
  },
  {
   "cell_type": "markdown",
   "metadata": {},
   "source": [
    "#### \n",
    "카운터에서 거스름돈으로 사용할 500원, 100원, 50원, 10원짜리 동전이 무한히 존재한다고 가정한다. </br>\n",
    "손님에게 거슬러 줘야 할 돈이 N원일 때 거슬러줘야 할 동전의 최소 개수를 구하라. </br>\n",
    "단, 거슬러 줘야 할 돈 N은 항상 10의 배수이다."
   ]
  },
  {
   "cell_type": "code",
   "execution_count": null,
   "metadata": {},
   "outputs": [
    {
     "name": "stdout",
     "output_type": "stream",
     "text": [
      "6\n"
     ]
    }
   ],
   "source": [
    "n = int(input()) # 손님에게 받은 돈\n",
    "count = 0 # 거슬러 줘야할 동전의 개수\n",
    "coin_type = [500, 100, 50, 10]\n",
    "\n",
    "for coin in coin_type:\n",
    "    count += n // coin\n",
    "    n %= coin\n",
    "\n",
    "print(count)"
   ]
  },
  {
   "cell_type": "markdown",
   "metadata": {},
   "source": [
    "## 실전 문제 - 큰 수의 법칙 "
   ]
  },
  {
   "cell_type": "markdown",
   "metadata": {},
   "source": [
    "####\n",
    "다양한 수로 이루어진 배열이 있을 때 주어진 수들을 M번 더하여 가장 큰 수를 만드는 법칙 </br>\n",
    "단, 배열의 특정한 인덱스(번호)에 해당하는 수가 연속해서 K번을 초과하여 더해질 수 없다 </br>\n",
    "\n",
    "배열의 크기 N, 숫자가 더해지는 횟수 M, 그리고 K가 주어질 때 큰 수의 법칙에 따른 결과를 출력하시오."
   ]
  },
  {
   "cell_type": "code",
   "execution_count": null,
   "metadata": {},
   "outputs": [
    {
     "name": "stdout",
     "output_type": "stream",
     "text": [
      "46\n"
     ]
    }
   ],
   "source": [
    "n, m, k = map(int, input().split()) # 입력 예시 - 5 8 3\n",
    "\n",
    "num = sorted(map(int, input().split())) # 숫자 배열 2 4 5 4 6\n",
    "\n",
    "first = num[-1] # 6\n",
    "second = num[-2] # 5\n",
    "\n",
    "result = 0\n",
    "\n",
    "while True:\n",
    "    for i in range(k): \n",
    "        if m == 0: \n",
    "            break\n",
    "        result += first \n",
    "        m -= 1\n",
    "    if m == 0:\n",
    "        break\n",
    "    result += second\n",
    "    m -= 1\n",
    "\n",
    "print(result)"
   ]
  },
  {
   "cell_type": "markdown",
   "metadata": {},
   "source": [
    "## 실전 문제 - 숫자 카드 게임"
   ]
  },
  {
   "cell_type": "markdown",
   "metadata": {},
   "source": [
    "####\n",
    "여러 개의 숫자 카드 중에서 가장 높은 숫자가 쓰인 카드 한 장을 뽑는 게임</br>\n",
    "1. 숫자가 쓰인 카드들이 N X M 형태로 놓여있다. 이때 N은 행의 개수, M은 열의 개수를 의미한다.</br>\n",
    "2. 먼저 뽑고자 하는 카드가 포함되어 있는 행을 선택한다.</br>\n",
    "3. 그다음 선택된 행에 포함된 카드들 중 가장 숫자가 낮은 카드를 뽑아야 한다.</br>\n",
    "4. 따라서 처음에 카드를 골라낼 행을 선택할 때, 이후에 해당 행에서 가장 숫자가 낮은 카드를 뽑을 것을 고려하여 최종적으로 가장 높은 숫자의 카드를 뽑을 수 있도록 전략을 세워야 한다."
   ]
  },
  {
   "cell_type": "code",
   "execution_count": null,
   "metadata": {},
   "outputs": [
    {
     "name": "stdout",
     "output_type": "stream",
     "text": [
      "3\n"
     ]
    }
   ],
   "source": [
    "n, m = map(int, input().split())\n",
    "result = 0\n",
    "\n",
    "for i in range(n): \n",
    "    num = list(map(int, input().split()))\n",
    "    min_num = min(num) \n",
    "    result = max(result, min_num) \n",
    "    \n",
    "print(result)"
   ]
  },
  {
   "cell_type": "markdown",
   "metadata": {},
   "source": [
    "## 실전 문제 - 1이 될 때까지"
   ]
  },
  {
   "cell_type": "markdown",
   "metadata": {},
   "source": [
    "####\n",
    "어떠한 수 N이 1이 될 때까지 다음의 두 과정 중 하나를 반복적으로 선택하여 수행하려고 한다.</br>\n",
    "단, 두 번째 연산은 N이 K로 나누어떨어질 때만 선택할 수 있다.</br>\n",
    "\n",
    "1. N에서 1을 뺀다\n",
    "2. N을 K로 나눈다. \n",
    "\n",
    "N, K가 주어질 때 N이 1이 될 때까지 1번 혹은 2번의 과정을 수행해야 하는 최소 횟수를 구하는 프로그램을 작성하시오."
   ]
  },
  {
   "cell_type": "code",
   "execution_count": null,
   "metadata": {},
   "outputs": [
    {
     "name": "stdout",
     "output_type": "stream",
     "text": [
      "2\n"
     ]
    }
   ],
   "source": [
    "n, k = map(int, input().split())\n",
    "result = 0\n",
    "\n",
    "while n >= k: # n이 k 이상이라면 k로 계속 나누기\n",
    "    while n % k != 0: # n이 k로 나누어 떨어지지 않는다면 n에서 1을 빼기\n",
    "        n -= 1\n",
    "        result += 1\n",
    "    n //= k\n",
    "    result += 1\n",
    "\n",
    "while n > 1:\n",
    "    n -= 1\n",
    "    result += 1\n",
    "    \n",
    "print(result)"
   ]
  },
  {
   "cell_type": "markdown",
   "metadata": {},
   "source": [
    "## 곱하기 혹은 더하기"
   ]
  },
  {
   "cell_type": "markdown",
   "metadata": {},
   "source": [
    "####\n",
    "첫째 줄에 여러 개의 숫자로 구성된 하나의 문자열 S가 주어집니다<br>\n",
    "첫째 줄에 만들어질 수 있는 가장 큰 수를 출력합니다.<br>\n",
    "연산 기호는 + 또는 x 가능"
   ]
  },
  {
   "cell_type": "code",
   "execution_count": 18,
   "metadata": {},
   "outputs": [
    {
     "name": "stdout",
     "output_type": "stream",
     "text": [
      "126\n"
     ]
    }
   ],
   "source": [
    "s = input()\n",
    "# 두 수에 대하여 연산을 수행할 때, 두 수 중에서 하나라도 1 이하인 경우에는 더하며, 두 수가 모두 2 이상인 경우는 곱함\n",
    "# 첫 번째 문자를 숫자로 변경하여 대입\n",
    "result = int(s[0])\n",
    "\n",
    "for i in range(1, len(s)):\n",
    "    # 두 수 중에서 하나라도 '0' 혹은 '1'인 경우, 곱하기보다는 더하기 수행\n",
    "    num = int(s[i])\n",
    "    if num <= 1 or result <= 1:\n",
    "        result += num\n",
    "    else:\n",
    "        result *= num\n",
    "        \n",
    "print(result)"
   ]
  },
  {
   "cell_type": "markdown",
   "metadata": {},
   "source": [
    "## 모험가 길드"
   ]
  },
  {
   "cell_type": "markdown",
   "metadata": {},
   "source": [
    "####\n",
    "한 마을에 모험가가 N명 있습니다. 모험가 길드에서는 N명의 모험가를 대상으로 '공포도'를 측정했는데, <br>'공포도'가 높은 모험가는 쉽게 공포를 느껴 위험 상황에서 제대로 대처할 능력이 떨어집니다.<br>\n",
    "모험가 길드장은 모험가 그룹을 안전하게 구성하고자 공포도가 X인 모험가는 반드시 X명 이상으로 구성한 모험가 그룹에 참여해야<br>\n",
    "여행을 떠날 수 있도록 규정했습니다.<br>\n",
    "길드장은 최대 몇 개의 모험가 그룹을 만들 수 있는지, N명의 모험가에 대한 정보가 주어졌을 때<br>여행을 떠날 수 있는 그룹의 최댓값을 구하는 프로그램을 작성하세요."
   ]
  },
  {
   "cell_type": "code",
   "execution_count": 21,
   "metadata": {},
   "outputs": [
    {
     "name": "stdout",
     "output_type": "stream",
     "text": [
      "2\n"
     ]
    }
   ],
   "source": [
    "# n은 5이고 모험가의 공포도가 2 3 1 2 2라 가정\n",
    "n = int(input())\n",
    "scare = list(map(int, input().split())) # 공포도\n",
    "result = 0 # 총 그룹의 수\n",
    "count = 0 # 현재 그룹에 포함된 모험가의 수\n",
    "\n",
    "# 오름차순 정렬 이후에 공포도가 가장 낮은 모험가부터 하나씩 확인\n",
    "scare.sort() # 1 2 2 2 3\n",
    "\n",
    "# 앞에서부터 공포도를 하나씩 확인하며 '현재 그룹에 포험된 모험가의 수'가 '현재 확인하고 있는 공포도'보다 크거나 같으면 이를 그룹으로 설정\n",
    "for i in scare:\n",
    "    count += 1 # 현재 그룹에 해당 모험가 포함\n",
    "    if count >= i: # 현재 그룹에 포함된 모험가의 수가 현재의 공포도 이상이라면, 그룹 결성\n",
    "        result += 1\n",
    "        count = 0 # 그룹이 결성될 때마다 초기화\n",
    "        \n",
    "print(result)\n"
   ]
  },
  {
   "cell_type": "markdown",
   "metadata": {},
   "source": [
    "## 예제 4-1 상하좌우"
   ]
  },
  {
   "cell_type": "markdown",
   "metadata": {},
   "source": [
    "####\n",
    "여행가 A는 N X M 크기의 정사각형 공간 위에 서 있다. 이 공간은 1 X 1 크기의 정사각형으로 나누어져 있다.</br>\n",
    "가장 왼쪽 위 자표는 (1, 1)이며, 가장 오른쪽 아래 좌표는 (N, N)에 해당한다.</br>\n",
    "여행가 A는 상, 하, 좌, 우 방향으로 이동할 수 있으며, 시작 좌표는 항상 (1, 1)이다.</br>\n",
    "우리 앞에는 여행가 A가 이동할 계획이 적힌 계획서가 놓여 있다. </br>\n",
    "계획서에는 하나의 줄에 띄어쓰기를 기준을 하여 L, R, U, D중 하나의 문자가 반복적으로 적혀 있다.</br>\n",
    "L(왼쪽으로 한 칸 이동) / R(오른쪽으로 한 칸 이동) / U(위로 한 칸 이동) / D(아래로 한 칸 이동)</br>\n",
    "여행가 A가 N X M 크기의 정사각형 공간을 벗어나는 움직임은 무시된다.</br>\n",
    "\n",
    "첫째 줄에 공간의 크기 N이 주어지고, 둘째 줄에 여행가 A가 이동할 계획서 내용이 주어질 때</br>\n",
    "최종적으로 도착할 지점의 좌표(X, Y)를 공백으로 구분하여 출력하여라."
   ]
  },
  {
   "cell_type": "code",
   "execution_count": 25,
   "metadata": {},
   "outputs": [
    {
     "name": "stdout",
     "output_type": "stream",
     "text": [
      "3 4\n"
     ]
    }
   ],
   "source": [
    "n = int(input()) # 5\n",
    "plan = input().split() # R R R U D D\n",
    "\n",
    "x, y = 1, 1\n",
    "\n",
    "# L, R, U, D에 따른 이동 방향 (좌, 우, 상, 하)\n",
    "dx = [0, 0, -1, 1] # row 세로\n",
    "dy = [-1, 1, 0, 0] # column 가로\n",
    "move = ['L', 'R', 'U', 'D']\n",
    "\n",
    "# 이동 계획을 하나씩 확인\n",
    "for i in plan:\n",
    "    for j in range(len(move)): \n",
    "        if i == move[j]: \n",
    "            nx = x + dx[j] \n",
    "            ny = y + dy[j] \n",
    "            \n",
    "    # 공간을 벗어나는 경우 무시\n",
    "    if nx < 1 or ny < 1 or nx > n or ny > n:\n",
    "        continue\n",
    "\n",
    "    # 이동 수행\n",
    "    x, y = nx, ny \n",
    "print(x, y)"
   ]
  },
  {
   "cell_type": "markdown",
   "metadata": {},
   "source": [
    "## 예제 4-2 시각"
   ]
  },
  {
   "cell_type": "markdown",
   "metadata": {},
   "source": [
    "####\n",
    "정수 N이 입력되면 00시 00분 00초부터 N시 59분 59초까지의 모든 시각 중에서 3이 하나라도 포함되는<br>\n",
    "모든 경우의 수를 구하는 프로그램을 작성하시오.<br>\n",
    "예를 들어 1을 입력했을 때 다음은 3이 하나라도 포함되어 있으므로 세어야 하는 시각이다.<br>\n",
    "\n",
    "00시 00분 03초<br>\n",
    "00시 13분 30초<br>\n",
    "\n",
    "반면에 다음은 3이 하나도 포함되어 있지 않으므로 세면 안되는 시각이다.<br>\n",
    "\n",
    "00시 02분 55초<br>\n",
    "01시 27분 45초"
   ]
  },
  {
   "cell_type": "code",
   "execution_count": 23,
   "metadata": {},
   "outputs": [
    {
     "name": "stdout",
     "output_type": "stream",
     "text": [
      "11475\n"
     ]
    }
   ],
   "source": [
    "# 가능한 모든 시각의 경우를 하나씩 모두 세서 풀 수 있는 문제\n",
    "# 이러한 유형을 완전 탐색(Brute Forcing) 문제 유형이라 불림 - 가능한 경우의 수를 모두 검사\n",
    "\n",
    "n = int(input()) # 입력 예시 5\n",
    "count = 0\n",
    "\n",
    "for i in range(n+1): # 00시 ~ 0n시\n",
    "    for j in range(60): # 00분 ~ 59분\n",
    "        for k in range(60): # 00초 ~ 59초\n",
    "            if '3' in str(i) + str(j) + str(k):\n",
    "                count += 1\n",
    "                \n",
    "print(count)\n",
    "\n",
    "# 참고 - 하루는 86,400초"
   ]
  },
  {
   "cell_type": "markdown",
   "metadata": {},
   "source": [
    "## 실전문제 - 왕실의 나이트"
   ]
  },
  {
   "cell_type": "markdown",
   "metadata": {},
   "source": [
    "####\n",
    "행복 왕국의 왕실 정원은 체스판과 같은 8 X 8 좌표 평면이다.<br>\n",
    "왕실 정원의 특정한 한 칸에 나이트가 서 있다.<br>\n",
    "나이트는 매우 충성스러운 신하로서 매일 무술을 연마한다.<br>\n",
    "\n",
    "나이트는 말을 타고 있기 때문에 이동을 할 때는 L자 형태로만 이동할 수 있으며 정원 밖으로는 나갈 수 없다.<br>\n",
    "나이트는 특정한 위치에서 다음과 같은 2가지 경우로 이동할 수 있다.<br>\n",
    "\n",
    "1. 수평으로 두 칸 이동한 뒤에 수직으로 한 칸 이동하기\n",
    "2. 수직으로 두 칸 이동한 뒤에 수평으로 한 칸 이동하기\n",
    "\n",
    "8 x 8 좌표 평면상에서 나이트의 위치가 주어졌을 때 나이트가 이동할 수 있는 경우의 수를 출력하는 프로그램을 작성하시오.<br>\n",
    "이때 왕실의 정원에서 행 위치를 표현할 때는 1부터 8로 표현하며, 열 위치를 표현할 때는 a부터 h로 표현한다."
   ]
  },
  {
   "cell_type": "markdown",
   "metadata": {},
   "source": [
    "#### 아스키코드 사용법\n",
    "1. ord(\"A\")\t-> 65, 아스키 코드 반환\n",
    "2. chr(65)  -> A, 숫자에 맞는 아스키 코드 반환"
   ]
  },
  {
   "cell_type": "code",
   "execution_count": 38,
   "metadata": {},
   "outputs": [
    {
     "name": "stdout",
     "output_type": "stream",
     "text": [
      "2\n"
     ]
    }
   ],
   "source": [
    "point = input() # a1\n",
    "\n",
    "# 현재 위치\n",
    "row = int(point[1]) # 1\n",
    "column = int(ord(point[0])) - int(ord('a')) + 1 # 1\n",
    "\n",
    "# 이동할 수 있는 8가지 방향 정의\n",
    "step = [(2, 1), (2, -1), (-2, 1), (-2, -1), (1, 2), (1, -2), (-1, 2), (-1, -2)]\n",
    "\n",
    "result = 0\n",
    "for i in step:\n",
    "    next_row = row + i[0]\n",
    "    next_colomn = column + i[1]\n",
    "    # print('next_row:',next_row)\n",
    "    # print('next_colomn:',next_colomn)\n",
    "    \n",
    "    # 해당 위치로 이동이 가능하다면 카운트 증가\n",
    "    if next_row >= 1 and next_row <= 8 and next_colomn >= 1 and next_colomn <= 8:\n",
    "        result += 1\n",
    "        \n",
    "print(result)"
   ]
  },
  {
   "cell_type": "markdown",
   "metadata": {},
   "source": [
    "## 문자열 재정렬"
   ]
  },
  {
   "cell_type": "markdown",
   "metadata": {},
   "source": [
    "####\n",
    "알파벳 대문자와 숫자(0 ~ 9)로만 구성된 문자열이 입력으로 주어진다. <br>\n",
    "이때 모든 알파벳을 오름차순으로 정렬하여 이어서 출력한 뒤에, 그 뒤에 모든 숫자를 더한 값을 이어서 출력한다.<br>\n",
    "예를 들어 K1KA5CB7이라는 값이 들어오면 ABCKK13을 출력한다."
   ]
  },
  {
   "cell_type": "code",
   "execution_count": 36,
   "metadata": {},
   "outputs": [
    {
     "name": "stdout",
     "output_type": "stream",
     "text": [
      "ABCKK13\n"
     ]
    }
   ],
   "source": [
    "s = input() # 문자열 입력\n",
    "\n",
    "li = [] # 문자 저장\n",
    "num = 0 # 숫자 저장\n",
    "\n",
    "for i in s:\n",
    "    if i.isalpha(): # 문자인지 확인\n",
    "        li.append(i)\n",
    "    else:\n",
    "        num += int(i)\n",
    "\n",
    "li.sort() # 오름차순 정렬\n",
    "if num != 0: # 숫자가 존재하는 경우 가장 뒤에 삽입\n",
    "    li.append(str(num))\n",
    "    \n",
    "print(''.join(li)) # 리스트를 문자열로 변환하여 출력\n"
   ]
  },
  {
   "cell_type": "markdown",
   "metadata": {},
   "source": [
    "## 실전문제 - 게임개발"
   ]
  },
  {
   "cell_type": "markdown",
   "metadata": {},
   "source": [
    "#### \n",
    "현민이는 게임 캐릭터가 맵 안에서 움직이는 시스템을 개발 중이다. </br>\n",
    "캐릭터가 있는 장소는 1 x 1 크기의 정사각형으로 이뤄진 N X M 크기의 직사각형으로, 각각의 칸은 육지 또는 바다이다.</br>\n",
    "캐릭터는 동서남북 중 한 곳을 바라본다.</br>\n",
    "\n",
    "맵의 각 칸은 (A, B)로 나타낼 수 있고, A는 북쪽으로부터 떨어진 칸의 개수, B는 서쪽으로부터 떨어진 칸의 개수이다.</br>\n",
    "캐릭터는 상하좌우로 움직일 수 있고, 바다로 되어 있는 공간에는 갈 수 없다.</br>\n",
    "\n",
    "1. 현재 위치에서 현재 방향을 기준으로 왼쪽 방향부터 차례대로 갈 곳을 정한다.\n",
    "2. 캐릭터의 바로 왼쪽 방향에 아직 가보지 않은 칸이 존재한다면, 왼쪽 방향으로 회전한 다음 왼쪽으로 한 칸을 전진한다.</br>\n",
    "왼쪽 방향에 가보지 않은 칸이 없다면, 왼쪽 방향으로 회전만 수행하고 1단계로 돌아간다.\n",
    "3. 만약 네 방향 모두 이미 가본 칸이거나 바다로 되어 있는 칸인 경우에는, 바라보는 방향을 유지한 채로 한 칸 뒤로 가고 1단계 돌아간다.</br>\n",
    "단, 이때 뒤쪽 방향이 바다인 칸이라 뒤로 갈 수 없는 경우에는 움직임을 멈춘다.</br>\n",
    "\n",
    "현민이는 위 과정을 반복적으로 수행하면서 캐릭터의 움직임에 이상이 있는지 테스트 하려고 한다.</br>\n",
    "매뉴얼에 따라 캐릭터를 이동시킨 뒤에, 캐릭터가 방문한 칸의 수를 출력하는 프로그램을 만드시오.</br>\n",
    "\n",
    "- 첫째 줄에 맵의 세로 크기 N과 가로 크기 M을 공백으로 구분하여 입력한다. (3 <= N, M <= 50)</br>\n",
    "- 둘째 줄에 게임 캐릭터가 있는 칸의 좌표(A, B)와 바라보는 방향 d가 각각 서로 공백으로 구분하여 주어진다.</br>\n",
    "- 방향 d의 값으로는 다음과 같이 4가지가 존재한다.</br>\n",
    "0 : 북쪽 / 1 : 동쪽 / 2 : 남쪽 / 3 : 서쪽</br>\n",
    "- 셋째 줄부터 맵이 육지인지 바다인지에 대한 정보가 주어진다.</br>\n",
    "N개의 줄에 맵의 상태가 북쪽부터 남쪽 순서대로, 각 줄의 데이터는 서쪽부터 동쪽 순서대로 주어진다.</br>\n",
    "맵의 외각은 항상 바다로 되어 있다.</br>\n",
    "0 : 육지 / 1 : 바다\n",
    "- 처음에 게임 캐릭터가 위치한 칸의 상태는 항상 육지이다."
   ]
  },
  {
   "cell_type": "markdown",
   "metadata": {},
   "source": [
    "입력 예시\n",
    "\n",
    "4 4       -> 4 X 4 맵 생성<br>\n",
    "1 1 0     -> (1, 1)에 북쪽(0)을 바라보고 서 있는 캐릭터<br>\n",
    "1 1 1 1    -> 첫 줄은 모두 바다 <br>\n",
    "1 0 0 1    -> 둘째 줄은 바다/육지/육지/바다<br>\n",
    "1 1 0 1    -> 셋째 줄은 바다/바다/육지/바다<br>\n",
    "1 1 1 1    -> 넷째 줄은 모두 바다"
   ]
  },
  {
   "cell_type": "code",
   "execution_count": 7,
   "metadata": {},
   "outputs": [
    {
     "name": "stdout",
     "output_type": "stream",
     "text": [
      "3\n"
     ]
    }
   ],
   "source": [
    "n, m = map(int, input().split()) # 4 4\n",
    "\n",
    "# 파이썬에서 2차원 리스트를 선언할 때는 컴프리헨션을 이용하는 것이 효율적이다.\n",
    "# 방문한 위치를 저장하기 위한 맵을 생성하여 0으로 초기화\n",
    "d = [[0] * m for _ in range(n)] # [[0, 0, 0, 0], [0, 0, 0, 0], [0, 0, 0, 0], [0, 0, 0, 0]]\n",
    "\n",
    "# 현재 캐릭터의 x, y좌표, 방향 입력\n",
    "x, y, direction = map(int, input().split()) # 1 1 0\n",
    "d[x][y] = 1 # 현재 좌표 방문 처리, [[0, 0, 0, 0], [0, 1, 0, 0], [0, 0, 0, 0], [0, 0, 0, 0]]\n",
    "\n",
    "# 전체 맵 정보 입력\n",
    "array = []\n",
    "for i in range(n):\n",
    "    array.append(list(map(int, input().split())))\n",
    "    # array [[1, 1, 1, 1], [1, 0, 0, 1], [1, 1, 0, 1], [1, 1, 1, 1]]\n",
    "\n",
    "# 북, 동, 남, 서 방향 정의\n",
    "dx = [-1, 0, 1, 0] # row 세로\n",
    "dy = [0, 1, 0, -1] # column 가로\n",
    "\n",
    "# 왼쪽으로 회전\n",
    "def turn_left():\n",
    "    global direction\n",
    "    direction -= 1\n",
    "    if direction == -1:\n",
    "        direction = 3\n",
    "        \n",
    "# 시뮬레이션 시작\n",
    "count = 1\n",
    "turn_time = 0\n",
    "while True:\n",
    "    # 왼쪽으로 회전\n",
    "    turn_left()\n",
    "    nx = x + dx[direction]\n",
    "    ny = y + dy[direction]\n",
    "    \n",
    "    # 회전한 이후 정면에 가보지 않은 칸이 존재하는 경우 이동\n",
    "    if d[nx][ny] == 0 and array[nx][ny] == 0:\n",
    "        d[nx][ny] = 1\n",
    "        x = nx\n",
    "        y = ny\n",
    "        count += 1\n",
    "        turn_time = 0\n",
    "        continue\n",
    "    \n",
    "    # 회전한 이후 정면에 가보지 않은 칸이 없거나 바다인 경우\n",
    "    else:\n",
    "        turn_time += 1\n",
    "        \n",
    "    # 네 방향 모두 갈 수 없는 경우\n",
    "    if turn_time == 4:\n",
    "        nx = x - dx[direction]\n",
    "        ny = y - dy[direction]\n",
    "        # 뒤로 갈 수 있다면 이동하기\n",
    "        if array[nx][ny] == 0:\n",
    "            x = nx\n",
    "            y = ny\n",
    "        # 뒤가 바다로 막혀있는 경우\n",
    "        else:\n",
    "            break\n",
    "        turn_time = 0\n",
    "        \n",
    "# 캐릭터가 방문한 칸의 수\n",
    "print(count)"
   ]
  }
 ],
 "metadata": {
  "kernelspec": {
   "display_name": "Python 3",
   "language": "python",
   "name": "python3"
  },
  "language_info": {
   "codemirror_mode": {
    "name": "ipython",
    "version": 3
   },
   "file_extension": ".py",
   "mimetype": "text/x-python",
   "name": "python",
   "nbconvert_exporter": "python",
   "pygments_lexer": "ipython3",
   "version": "3.11.3"
  },
  "orig_nbformat": 4
 },
 "nbformat": 4,
 "nbformat_minor": 2
}
