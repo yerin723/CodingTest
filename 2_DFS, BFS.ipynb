{
 "cells": [
  {
   "cell_type": "markdown",
   "metadata": {},
   "source": [
    "####\n",
    "5-1. 스택 예제"
   ]
  },
  {
   "cell_type": "code",
   "execution_count": null,
   "metadata": {},
   "outputs": [
    {
     "name": "stdout",
     "output_type": "stream",
     "text": [
      "[5, 2, 3, 1]\n"
     ]
    }
   ],
   "source": [
    "stack = []\n",
    "\n",
    "# 삽입(5) - 삽입(2) - 삽입(3) - 삽입(7) - 삭제() - 삽입(1) - 삽입(4) - 삭제()\n",
    "\n",
    "stack.append(5)\n",
    "stack.append(2)\n",
    "stack.append(3)\n",
    "stack.append(7)\n",
    "stack.pop()\n",
    "stack.append(1)\n",
    "stack.append(4)\n",
    "stack.pop()\n",
    "\n",
    "print(stack) # 최하단 원소부터 출력 [5, 2, 3, 1]"
   ]
  },
  {
   "cell_type": "markdown",
   "metadata": {},
   "source": [
    "####\n",
    "5-2. 큐 예제"
   ]
  },
  {
   "cell_type": "code",
   "execution_count": null,
   "metadata": {},
   "outputs": [
    {
     "name": "stdout",
     "output_type": "stream",
     "text": [
      "deque([3, 7, 1, 4])\n",
      "[3, 7, 1, 4]\n"
     ]
    }
   ],
   "source": [
    "# 파이썬으로 큐를 구현할 때는 collections 모듈에서 제공하는 deque 자료구조를 활용\n",
    "# deque는 스택과 큐의 장점을 모두 채택한 것, 데이터를 넣고 빼는 속도가 리스트 자료형에 비해 효율적\n",
    "\n",
    "from collections import deque\n",
    "\n",
    "queue = deque()\n",
    "\n",
    "# 삽입(5) - 삽입(2) - 삽입(3) - 삽입(7) - 삭제() - 삽입(1) - 삽입(4) - 삭제()\n",
    "\n",
    "queue.append(5)\n",
    "queue.append(2)\n",
    "queue.append(3)\n",
    "queue.append(7)\n",
    "queue.popleft() # deque()의 가장 앞에 값을 뺌\n",
    "queue.append(1)\n",
    "queue.append(4)\n",
    "queue.popleft()\n",
    "\n",
    "print(queue) # 먼저 들어온 순서대로 출력 deque([3, 7, 1, 4])\n",
    "print(list(queue)) # [3, 7, 1, 4]"
   ]
  },
  {
   "cell_type": "markdown",
   "metadata": {},
   "source": [
    "####\n",
    "5-3. 재귀함수 예제"
   ]
  },
  {
   "cell_type": "code",
   "execution_count": null,
   "metadata": {},
   "outputs": [
    {
     "name": "stdout",
     "output_type": "stream",
     "text": [
      "1번째 함수 호출\n",
      "2번째 함수 호출\n",
      "3번째 함수 호출\n",
      "4번째 함수 호출\n",
      "5번째 함수 호출\n",
      "6번째 함수 호출\n",
      "7번째 함수 호출\n",
      "8번째 함수 호출\n",
      "9번째 함수 호출\n",
      "10번째 함수 호출\n",
      "11번째 함수 호출\n",
      "12번째 함수 호출\n",
      "13번째 함수 호출\n",
      "14번째 함수 호출\n",
      "15번째 함수 호출\n",
      "16번째 함수 호출\n",
      "17번째 함수 호출\n",
      "18번째 함수 호출\n",
      "19번째 함수 호출\n",
      "20번째 함수 호출\n",
      "21번째 함수 호출\n",
      "22번째 함수 호출\n",
      "23번째 함수 호출\n",
      "24번째 함수 호출\n",
      "25번째 함수 호출\n",
      "26번째 함수 호출\n",
      "27번째 함수 호출\n",
      "28번째 함수 호출\n",
      "29번째 함수 호출\n",
      "30번째 함수 호출\n",
      "31번째 함수 호출\n",
      "32번째 함수 호출\n",
      "33번째 함수 호출\n",
      "34번째 함수 호출\n",
      "35번째 함수 호출\n",
      "36번째 함수 호출\n",
      "37번째 함수 호출\n",
      "38번째 함수 호출\n",
      "39번째 함수 호출\n",
      "40번째 함수 호출\n",
      "41번째 함수 호출\n",
      "42번째 함수 호출\n",
      "43번째 함수 호출\n",
      "44번째 함수 호출\n",
      "45번째 함수 호출\n",
      "46번째 함수 호출\n",
      "47번째 함수 호출\n",
      "48번째 함수 호출\n",
      "49번째 함수 호출\n",
      "50번째 함수 호출\n",
      "51번째 함수 호출\n",
      "52번째 함수 호출\n",
      "53번째 함수 호출\n",
      "54번째 함수 호출\n",
      "55번째 함수 호출\n",
      "56번째 함수 호출\n",
      "57번째 함수 호출\n",
      "58번째 함수 호출\n",
      "59번째 함수 호출\n",
      "60번째 함수 호출\n",
      "61번째 함수 호출\n",
      "62번째 함수 호출\n",
      "63번째 함수 호출\n",
      "64번째 함수 호출\n",
      "65번째 함수 호출\n",
      "66번째 함수 호출\n",
      "67번째 함수 호출\n",
      "68번째 함수 호출\n",
      "69번째 함수 호출\n",
      "70번째 함수 호출\n",
      "71번째 함수 호출\n",
      "72번째 함수 호출\n",
      "73번째 함수 호출\n",
      "74번째 함수 호출\n",
      "75번째 함수 호출\n",
      "76번째 함수 호출\n",
      "77번째 함수 호출\n",
      "78번째 함수 호출\n",
      "79번째 함수 호출\n",
      "80번째 함수 호출\n",
      "81번째 함수 호출\n",
      "82번째 함수 호출\n",
      "83번째 함수 호출\n",
      "84번째 함수 호출\n",
      "85번째 함수 호출\n",
      "86번째 함수 호출\n",
      "87번째 함수 호출\n",
      "88번째 함수 호출\n",
      "89번째 함수 호출\n",
      "90번째 함수 호출\n",
      "91번째 함수 호출\n",
      "92번째 함수 호출\n",
      "93번째 함수 호출\n",
      "94번째 함수 호출\n",
      "95번째 함수 호출\n",
      "96번째 함수 호출\n",
      "97번째 함수 호출\n",
      "98번째 함수 호출\n",
      "99번째 함수 호출\n",
      "100번째 함수 호출\n"
     ]
    }
   ],
   "source": [
    "# 재귀 함수를 100번 호출하도록 작성한 코드\n",
    "\n",
    "def recursive_function(i):\n",
    "    if i > 100:\n",
    "        return\n",
    "    print(\"{}번째 함수 호출\".format(i))\n",
    "    recursive_function(i + 1)\n",
    "    \n",
    "recursive_function(1)"
   ]
  },
  {
   "cell_type": "markdown",
   "metadata": {},
   "source": [
    "####\n",
    "5-4. 팩토리얼"
   ]
  },
  {
   "cell_type": "code",
   "execution_count": null,
   "metadata": {},
   "outputs": [
    {
     "data": {
      "text/plain": [
       "120"
      ]
     },
     "execution_count": 7,
     "metadata": {},
     "output_type": "execute_result"
    }
   ],
   "source": [
    "# 반복적으로 구현한 n!\n",
    "\n",
    "def factorial_function(n):\n",
    "    result = 1\n",
    "    for i in range(1, n+1):\n",
    "        result *= i\n",
    "    return result\n",
    "\n",
    "factorial_function(5)"
   ]
  },
  {
   "cell_type": "code",
   "execution_count": null,
   "metadata": {},
   "outputs": [
    {
     "data": {
      "text/plain": [
       "120"
      ]
     },
     "execution_count": 8,
     "metadata": {},
     "output_type": "execute_result"
    }
   ],
   "source": [
    "# 재귀적으로 구현한 n! (더 간결)\n",
    "# 수학적으로 0! = 1!은 1로 같다는 성질 이용\n",
    "\n",
    "def factorial_function(n):\n",
    "    if n <= 1:\n",
    "        return 1\n",
    "    # n! = n * (n-1)! 코드로 작성\n",
    "    return n * factorial_function(n-1)\n",
    "\n",
    "factorial_function(5)"
   ]
  },
  {
   "cell_type": "markdown",
   "metadata": {},
   "source": [
    "####\n",
    "최대공약수 계산(유클리드 호제법)"
   ]
  },
  {
   "cell_type": "code",
   "execution_count": 1,
   "metadata": {},
   "outputs": [
    {
     "name": "stdout",
     "output_type": "stream",
     "text": [
      "6\n"
     ]
    }
   ],
   "source": [
    "# 두 자연수 A, B에 대하여 (A > B) A를 B로 나눈 나머지를 R이라 함\n",
    "\n",
    "def gcd(a, b): # Greatest Common Divisor\n",
    "    if a % b == 0: # a가 b의 배수라면\n",
    "        return b \n",
    "    else:\n",
    "        return gcd(b, a % b)\n",
    "    \n",
    "print(gcd(192, 162))"
   ]
  },
  {
   "cell_type": "markdown",
   "metadata": {},
   "source": [
    "####\n",
    "5-5. DFS 예제"
   ]
  },
  {
   "cell_type": "code",
   "execution_count": 15,
   "metadata": {},
   "outputs": [
    {
     "name": "stdout",
     "output_type": "stream",
     "text": [
      "1 2 7 6 8 3 4 5 "
     ]
    }
   ],
   "source": [
    "# DFS 메서드 정의\n",
    "def dfs(graph, v, visited):\n",
    "    # 현재 노드 방문 처리\n",
    "    visited[v] = True\n",
    "    print(v, end=' ')\n",
    "    \n",
    "    # 현재 노드와 연결된 다른 노드를 재귀적으로 방문\n",
    "    for i in graph[v]:\n",
    "        if not visited[i]: # 인접한 노드가 방문되지 않았다면\n",
    "            dfs(graph, i, visited)\n",
    "    \n",
    "# 각 노드가 연결된 정보를 리스트 자료형으로 표현(2차원 리스트)\n",
    "graph = [\n",
    "    [], # 인덱스 0은 사용하지 않음 (그래프 노드 시작이 1번부터라서)\n",
    "    [2, 3, 8], # 1번 노드와 연결된 건 2, 3, 8번\n",
    "    [1, 7], # 2번 노드와 연결된 건 1, 7\n",
    "    [1, 4, 5],\n",
    "    [3, 5],\n",
    "    [3, 4],\n",
    "    [7],\n",
    "    [2, 6, 8],\n",
    "    [1, 7]\n",
    "]\n",
    "\n",
    "# 각 노드가 방문된 정보를 리스트 자료형으로 표현(1차원 리스트)\n",
    "visited = [False] * 9\n",
    "\n",
    "dfs(graph, 1, visited)"
   ]
  },
  {
   "cell_type": "markdown",
   "metadata": {},
   "source": [
    "#### \n",
    "5-6. BFS 예제"
   ]
  },
  {
   "cell_type": "code",
   "execution_count": 5,
   "metadata": {},
   "outputs": [
    {
     "name": "stdout",
     "output_type": "stream",
     "text": [
      "deque([1])\n",
      "1 2 3 8 7 4 5 6 "
     ]
    }
   ],
   "source": [
    "from collections import deque\n",
    "\n",
    "# BFS 메서드 정의\n",
    "def bfs(graph, start, visited):\n",
    "    # 큐 구현을 위해 deque 라이브러리 사용\n",
    "    queue = deque([start]) # deque([1])\n",
    "    \n",
    "    # 현재 노드 방문 처리\n",
    "    visited[start] = True\n",
    "    \n",
    "    # 큐가 빌 때까지 반복\n",
    "    while queue:\n",
    "        # 큐에서 하나의 원소를 뽑아 출력\n",
    "        v = queue.popleft()\n",
    "        print(v, end=' ')\n",
    "        # 해당 원소와 연결된, 아직 방문하지 않은 원소들을 큐에 삽입\n",
    "        for i in graph[v]:\n",
    "            if not visited[i]:\n",
    "                queue.append(i)\n",
    "                visited[i] = True\n",
    "                \n",
    "# 각 노드가 연결된 정보를 리스트 자료형으로 표현(2차원 리스트)\n",
    "graph = [\n",
    "    [], # 인덱스 0은 사용하지 않음 (그래프 노드 시작이 1번부터라서)\n",
    "    [2, 3, 8], # 1번 노드와 연결된 건 2, 3, 8번\n",
    "    [1, 7], # 2번 노드와 연결된 건 1, 7\n",
    "    [1, 4, 5],\n",
    "    [3, 5],\n",
    "    [3, 4],\n",
    "    [7],\n",
    "    [2, 6, 8],\n",
    "    [1, 7]\n",
    "]\n",
    "\n",
    "# 각 노드가 방문된 정보를 리스트 자료형으로 표현(1차원 리스트)\n",
    "visited = [False] * 9\n",
    "\n",
    "# 정의된 BFS 함수 호출\n",
    "bfs(graph, 1, visited)\n"
   ]
  },
  {
   "cell_type": "markdown",
   "metadata": {},
   "source": [
    "## 실전문제 3 - 음료수 얼려 먹기"
   ]
  },
  {
   "cell_type": "markdown",
   "metadata": {},
   "source": [
    "####\n",
    "N X M 크기의 얼음 틀이 있다. 구멍이 뚫려 있는 부분은 0, 칸막이가 존재하는 부분은 1로 표시된다. <br>\n",
    "구멍이 뚫려 있는 부분끼리 상, 하, 좌, 우로 붙어 있는 경우 서로 연결되어 있는 것으로 간주한다. <br>\n",
    "이때 얼음 틀의 모양이 주어졌을 때 생성되는 총 아이스크림의 개수를 구하라. <br>\n",
    "다음 4 X 5 얼음 틀 예시에서는 아이스크림이 총 3개 생성된다."
   ]
  },
  {
   "cell_type": "code",
   "execution_count": 10,
   "metadata": {},
   "outputs": [
    {
     "name": "stdout",
     "output_type": "stream",
     "text": [
      "3\n"
     ]
    }
   ],
   "source": [
    "n, m = map(int, input().split()) # 4 5\n",
    "\n",
    "# 2차원 리스트 맵 정보\n",
    "graph = []\n",
    "for i in range(n):\n",
    "    graph.append(list(map(int, input()))) # [[0, 0, 1, 1, 0], [0, 0, 0, 1, 1], [1, 1, 1, 1, 1], [0, 0, 0, 0, 0]]\n",
    "\n",
    "# dfs로 특정한 노드를 방문한 뒤에 연결된 모든 노드들도 방문\n",
    "def dfs(x, y):\n",
    "    # 주어진 범위를 벗어나는 경우에 즉시 종료\n",
    "    # 종료조건 1\n",
    "    if x < 0 or x >= n or y < 0 or y >= n:\n",
    "        return False\n",
    "    \n",
    "    # 현재 노드를 아직 방문하지 않았다면\n",
    "    if graph[x][y] == 0:\n",
    "        # 해당 노드 방문 처리\n",
    "        graph[x][y] = 1\n",
    "    \n",
    "        # 상, 하, 좌, 우 위치 재귀적 호출 (x는 row 세로, y는 column 가로)\n",
    "        dfs(x-1, y) # 상\n",
    "        dfs(x, y-1) # 좌\n",
    "        dfs(x+1, y) # 하\n",
    "        dfs(x, y+1) # 우\n",
    "        return True # 모든 0인 부분을 1로 만들고 True 반환\n",
    "    \n",
    "    # 종료조건 2\n",
    "    return False\n",
    "\n",
    "# 모든 노드(위치)에 대하여 음료수 채우기\n",
    "result = 0\n",
    "for i in range(n):\n",
    "    for j in range(m):\n",
    "        # 현재 위치에서 DFS수행\n",
    "        if dfs(i, j) == True:\n",
    "            result += 1\n",
    "            \n",
    "print(result)\n",
    "    "
   ]
  },
  {
   "cell_type": "markdown",
   "metadata": {},
   "source": [
    "## 실전문제 4 - 미로탈출"
   ]
  },
  {
   "cell_type": "markdown",
   "metadata": {},
   "source": [
    "####\n",
    "주인공은 N X M 크기의 직사각형 형태의 미로에 갇혀 있다. <br>\n",
    "미로에는 여러 마리의 괴물이 있어 이를 피해 탈출해야 한다. <br>\n",
    "주인공의 위치는 (1, 1)이고 미로의 출구는 (N, M)의 위치에 존재하며 한번에 한 칸씩 이동할 수있다. <br>\n",
    "이때 괴물이 있는 부분은 0으로, 괴물이 없는 부분은 1로 표시되어있다. <br>\n",
    "주인공이 탈출하기 위해 움직여야 하는 최소 칸의 개수를 구하시오. <br>\n",
    "칸을 셀 때는 시작 칸과 마지막 칸을 모두 포함해서 계산한다."
   ]
  },
  {
   "cell_type": "code",
   "execution_count": 20,
   "metadata": {},
   "outputs": [
    {
     "name": "stdout",
     "output_type": "stream",
     "text": [
      "5\n"
     ]
    }
   ],
   "source": [
    "from collections import deque\n",
    "\n",
    "n, m = map(int, input().split()) # 3 3\n",
    "\n",
    "# bfs 소스코드\n",
    "def bfs(x, y):\n",
    "    # 큐 구현을 위해 deque 라이브러리 사용\n",
    "    queue = deque()\n",
    "    queue.append((x, y))\n",
    "    \n",
    "    # 큐가 빌 때까지 반복\n",
    "    while queue:\n",
    "        x, y = queue.popleft()\n",
    "        # 현재 위치에서 네 방향으로의 위치 확인\n",
    "        for i in range(4):\n",
    "            nx = x + dx[i]\n",
    "            ny = y + dy[i]\n",
    "            \n",
    "            # 미로 찾기 공간을 벗어난 경우 무시\n",
    "            if nx < 0 or ny < 0 or nx >= n or ny >= n:\n",
    "                continue\n",
    "            \n",
    "            # 벽인 경우 무시 (괴물이 존재해서 이동할 수 없는 경우)\n",
    "            if graph[nx][ny] == 0:\n",
    "                continue\n",
    "            \n",
    "            # 해당 노드를 처음 방문하는 경우에만 최단 거리 기록\n",
    "            if graph[nx][ny] == 1:\n",
    "                graph[nx][ny] = graph[x][y] + 1 # 인접 노드 이동 칸 수\n",
    "                queue.append((nx, ny)) # 방문할 수 있다면 큐에 삽입\n",
    "                \n",
    "    # 가장 오른쪽 아래까지의 최단 거리 반환\n",
    "    return graph[n-1][m-1]\n",
    "\n",
    "# 2차원 리스트의 맵 정보 입력\n",
    "graph = []\n",
    "for i in range(n):\n",
    "    graph.append(list(map(int, input()))) # [[1, 1, 0], [0, 1, 0], [0, 1, 1]]\n",
    "    \n",
    "# 이동할 네 방향 정의(상, 하, 좌, 우)\n",
    "dx = [-1, 1, 0, 0]\n",
    "dy = [0, 0, -1, 1]\n",
    "\n",
    "# bfs를 수행한 결과 \n",
    "print(bfs(0, 0))\n"
   ]
  }
 ],
 "metadata": {
  "kernelspec": {
   "display_name": "Python 3",
   "language": "python",
   "name": "python3"
  },
  "language_info": {
   "codemirror_mode": {
    "name": "ipython",
    "version": 3
   },
   "file_extension": ".py",
   "mimetype": "text/x-python",
   "name": "python",
   "nbconvert_exporter": "python",
   "pygments_lexer": "ipython3",
   "version": "3.11.3"
  }
 },
 "nbformat": 4,
 "nbformat_minor": 2
}
